{
 "cells": [
  {
   "cell_type": "markdown",
   "id": "50d43029",
   "metadata": {},
   "source": [
    "# Day 1 — Linear Algebra Basics (Vectors & Matrices)\n",
    "\n",
    "**Date:** 2025-09-05\n",
    "\n",
    "**Goals (today):**\n",
    "- Build intuition for vectors: dot product, norm, angle, projection\n",
    "- Practice matrix multiplication & identity/inverse/determinant\n",
    "- Visualize 2D vectors and a simple linear transform\n",
    "\n",
    "**Deliverables:** two plots saved to `figures/`, working code cells, and a 5–7 sentence reflection at the end."
   ]
  },
  {
   "cell_type": "code",
   "execution_count": 1,
   "id": "05194155",
   "metadata": {},
   "outputs": [
    {
     "name": "stderr",
     "output_type": "stream",
     "text": [
      "Matplotlib is building the font cache; this may take a moment.\n"
     ]
    },
    {
     "name": "stdout",
     "output_type": "stream",
     "text": [
      "NumPy: 2.3.2\n",
      "Matplotlib: 3.10.6\n"
     ]
    }
   ],
   "source": [
    "# Cell 1 — Imports & setup\n",
    "import numpy as np\n",
    "import matplotlib.pyplot as plt\n",
    "\n",
    "np.set_printoptions(suppress=True, precision=4)\n",
    "\n",
    "print(\"NumPy:\", np.__version__)\n",
    "print(\"Matplotlib:\", plt.matplotlib.__version__)"
   ]
  },
  {
   "cell_type": "code",
   "execution_count": 45,
   "id": "637e8442",
   "metadata": {},
   "outputs": [
    {
     "name": "stdout",
     "output_type": "stream",
     "text": [
      "a: [3 4] shape: (2,)\n",
      "b: [ 1 -2] shape: (2,)\n"
     ]
    }
   ],
   "source": [
    "# Cell 2 — Create basic 2D vectors\n",
    "a = np.array([3, 4])       # Vector a\n",
    "b = np.array([1, -2])      # Vector b\n",
    "\n",
    "print(\"a:\", a, \"shape:\", a.shape)\n",
    "print(\"b:\", b, \"shape:\", b.shape)\n",
    "\n",
    "# Tip: If you see shape errors later, print a.shape and b.shape again."
   ]
  },
  {
   "cell_type": "code",
   "execution_count": 46,
   "id": "dc646d9c",
   "metadata": {},
   "outputs": [
    {
     "name": "stdout",
     "output_type": "stream",
     "text": [
      "dot(a,b) = -5\n",
      "||a|| = 5.0000\n",
      "||b|| = 2.2361\n",
      "angle(a,b) = 116.57°\n"
     ]
    }
   ],
   "source": [
    "# Cell 3 — Dot product, norms, angle between vectors\n",
    "dot_ab = a @ b                         # dot product\n",
    "norm_a = np.linalg.norm(a)             # ||a||\n",
    "norm_b = np.linalg.norm(b)             # ||b||\n",
    "cos_theta = dot_ab / (norm_a * norm_b) # may be slightly >1/<-1 from float roundoff\n",
    "theta_rad = np.arccos(np.clip(cos_theta, -1, 1))\n",
    "theta_deg = np.degrees(theta_rad)\n",
    "\n",
    "print(f\"dot(a,b) = {dot_ab}\")          # expect 3*1 + 4*(-2) = -5\n",
    "print(f\"||a|| = {norm_a:.4f}\")         # expect 5.0\n",
    "print(f\"||b|| = {norm_b:.4f}\")         # sqrt(1^2 + (-2)^2) = sqrt(5)\n",
    "print(f\"angle(a,b) = {theta_deg:.2f}°\")# obtuse if dot < 0"
   ]
  },
  {
   "cell_type": "code",
   "execution_count": 49,
   "id": "05d194c4",
   "metadata": {},
   "outputs": [
    {
     "name": "stdout",
     "output_type": "stream",
     "text": [
      "projection of a onto b: [-1.  2.]\n",
      "residual (a - proj): [4. 2.]\n",
      "residual orthogonal to b? dot = 0.0\n"
     ]
    }
   ],
   "source": [
    "# Cell 4 — Projection of a onto b and orthogonality check\n",
    "# proj_b(a) = (a·b / b·b) * b\n",
    "proj_a_on_b = (dot_ab / (b @ b)) * b\n",
    "residual = a - proj_a_on_b\n",
    "\n",
    "print(\"projection of a onto b:\", proj_a_on_b)\n",
    "print(\"residual (a - proj):\", residual)\n",
    "print(\"residual orthogonal to b? dot =\", residual @ b)  # ~0 if orthogonal"
   ]
  },
  {
   "cell_type": "code",
   "execution_count": 47,
   "id": "b4094d6a",
   "metadata": {},
   "outputs": [
    {
     "data": {
      "image/png": "[encoded data removed]",
      "text/plain": [
       "<Figure size 500x500 with 1 Axes>"
      ]
     },
     "metadata": {},
     "output_type": "display_data"
    }
   ],
   "source": [
    "# Cell 5 — Visualize vectors and the projection with a 2D quiver plot\n",
    "fig, ax = plt.subplots(figsize=(5, 5))\n",
    "origin = np.array([[0, 0, 0], [0, 0, 0]])  # three origins (x0, y0) for 3 arrows\n",
    "\n",
    "# Plot a, b, and projection of a onto b (defaults use Matplotlib's styling)\n",
    "ax.quiver(*origin, [a[0], b[0], proj_a_on_b[0]], [a[1], b[1], proj_a_on_b[1]],\n",
    "          angles='xy', scale_units='xy', scale=1)\n",
    "\n",
    "# Axes & layout\n",
    "ax.set_xlim(-6, 6)\n",
    "ax.set_ylim(-6, 6)\n",
    "ax.set_aspect('equal', 'box')\n",
    "ax.grid(True)\n",
    "ax.set_title(\"Vectors a, b, and projection of a onto b\")\n",
    "plt.show()\n",
    "\n",
    "# Save the figure to the repo (relative to this notebook)\n",
    "fig.savefig(\"../figures/day1_vectors.png\", dpi=150, bbox_inches=\"tight\")\n"
   ]
  },
  {
   "cell_type": "code",
   "execution_count": 35,
   "id": "34c48c04",
   "metadata": {},
   "outputs": [
    {
     "name": "stdout",
     "output_type": "stream",
     "text": [
      "A:\n",
      " [[2 0]\n",
      " [1 3]]\n",
      "x: [3 4]\n",
      "A @ x: [ 6 15]\n"
     ]
    }
   ],
   "source": [
    "# Cell 6 — Matrix × vector and matrix × matrix\n",
    "A = np.array([[2, 0],\n",
    "              [1, 3]])      # 2x2 matrix\n",
    "x = np.array([3, 4])        # vector\n",
    "\n",
    "Ax = A @ x                  # (2x2) @ (2,) -> (2,)\n",
    "print(\"A:\\n\", A)\n",
    "print(\"x:\", x)\n",
    "print(\"A @ x:\", Ax)         # expect [2*3 + 0*4, 1*3 + 3*4] = [6, 15]"
   ]
  },
  {
   "cell_type": "code",
   "execution_count": 36,
   "id": "a45ed3a9",
   "metadata": {},
   "outputs": [
    {
     "name": "stdout",
     "output_type": "stream",
     "text": [
      "I:\n",
      " [[1. 0.]\n",
      " [0. 1.]]\n",
      "det(A): 6.0\n",
      "A_inv:\n",
      " [[ 0.5     0.    ]\n",
      " [-0.1667  0.3333]]\n",
      "A @ A_inv ≈ I?\n",
      " [[1. 0.]\n",
      " [0. 1.]]\n"
     ]
    }
   ],
   "source": [
    "# Cell 7 — Identity, determinant, and inverse\n",
    "I = np.eye(2)\n",
    "detA = np.linalg.det(A)\n",
    "A_inv = np.linalg.inv(A)\n",
    "\n",
    "print(\"I:\\n\", I)\n",
    "print(\"det(A):\", detA)\n",
    "print(\"A_inv:\\n\", A_inv)\n",
    "print(\"A @ A_inv ≈ I?\\n\", A @ A_inv)\n",
    "\n",
    "# Sanity assertion — this should pass for invertible A\n",
    "assert np.allclose(A @ A_inv, I), \"Inverse check failed\""
   ]
  },
  {
   "cell_type": "code",
   "execution_count": 43,
   "id": "fd307ee5",
   "metadata": {},
   "outputs": [
    {
     "data": {
      "image/png": "[encoded data removed]",
      "text/plain": [
       "<Figure size 500x500 with 1 Axes>"
      ]
     },
     "metadata": {},
     "output_type": "display_data"
    }
   ],
   "source": [
    "# Cell 8 — Visualize a simple linear transform\n",
    "# Apply A to a small set of 2D points to see how space is skewed/stretched.\n",
    "grid = np.array([[ 1,  0],\n",
    "                 [ 0,  1],\n",
    "                 [-1,  0],\n",
    "                 [ 0, -1],\n",
    "                 [ 1,  1],\n",
    "                 [-1,  1],\n",
    "                 [ 1, -1],\n",
    "                 [-1, -1]])\n",
    "grid_transformed = (A @ grid.T).T\n",
    "\n",
    "fig, ax = plt.subplots(figsize=(5, 5))\n",
    "ax.scatter(grid[:, 0], grid[:, 1], label=\"Original\")\n",
    "ax.scatter(grid_transformed[:, 0], grid_transformed[:, 1], label=\"Transformed\")\n",
    "for p, q in zip(grid, grid_transformed):\n",
    "    ax.plot([p[0], q[0]], [p[1], q[1]], alpha=0.5)\n",
    "\n",
    "ax.axhline(0, lw=0.5); ax.axvline(0, lw=0.5)\n",
    "ax.set_aspect('equal', 'box'); ax.grid(True)\n",
    "ax.legend()\n",
    "ax.set_title(\"Effect of linear transform A on points\")\n",
    "plt.show()\n",
    "\n",
    "fig.savefig(\"../figures/day1_transform.png\", dpi=150, bbox_inches=\"tight\")"
   ]
  },
  {
   "cell_type": "markdown",
   "id": "e6ec13a5",
   "metadata": {},
   "source": [
    "## Self-Quiz (answer briefly in this cell or the one below)\n",
    "1. When is the dot product zero, and what does that imply about two vectors?\n",
    "2. How do you compute the projection of `a` onto `b`?\n",
    "3. What does a negative dot product say about the angle between vectors?\n",
    "4. What must be true for a square matrix to have an inverse?"
   ]
  },
  {
   "cell_type": "markdown",
   "id": "2447ea91",
   "metadata": {},
   "source": [
    "## Reflection (5–7 sentences)\n",
    "- What “clicked” today about dot products or projections?\n",
    "- Any numerical pitfalls you noticed (e.g., rounding, `arccos` domain)?\n",
    "- 1–2 questions you want to revisit tomorrow."
   ]
  }
 ],
 "metadata": {
  "kernelspec": {
   "display_name": "Python 3 (ipykernel)",
   "language": "python",
   "name": "python3"
  },
  "language_info": {
   "codemirror_mode": {
    "name": "ipython",
    "version": 3
   },
   "file_extension": ".py",
   "mimetype": "text/x-python",
   "name": "python",
   "nbconvert_exporter": "python",
   "pygments_lexer": "ipython3",
   "version": "3.13.7"
  }
 },
 "nbformat": 4,
 "nbformat_minor": 5
}
